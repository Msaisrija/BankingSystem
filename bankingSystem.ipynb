{
 "cells": [
  {
   "cell_type": "code",
   "execution_count": 1,
   "id": "e7b64bd8-cd0f-46b0-8ee2-dff26a63aa05",
   "metadata": {},
   "outputs": [
    {
     "name": "stdout",
     "output_type": "stream",
     "text": [
      "\n",
      "Enter 0 to exit.\n",
      "Enter 1 to check balance.\n",
      "Enter 2 to deposit.\n",
      "Enter 3 to withdraw.\n"
     ]
    },
    {
     "name": "stdin",
     "output_type": "stream",
     "text": [
      "Enter a choice for operation:  1\n"
     ]
    },
    {
     "name": "stdout",
     "output_type": "stream",
     "text": [
      "Your total amount is:  20000\n",
      "\n",
      "Enter 0 to exit.\n",
      "Enter 1 to check balance.\n",
      "Enter 2 to deposit.\n",
      "Enter 3 to withdraw.\n"
     ]
    },
    {
     "name": "stdin",
     "output_type": "stream",
     "text": [
      "Enter a choice for operation:  2\n",
      "Enter the amount you want to deposit:  10000\n"
     ]
    },
    {
     "name": "stdout",
     "output_type": "stream",
     "text": [
      "Successfully deposited:  10000.0\n",
      "Your total amount is now:  30000.0\n",
      "\n",
      "Enter 0 to exit.\n",
      "Enter 1 to check balance.\n",
      "Enter 2 to deposit.\n",
      "Enter 3 to withdraw.\n"
     ]
    },
    {
     "name": "stdin",
     "output_type": "stream",
     "text": [
      "Enter a choice for operation:  3\n",
      "Enter the amount you want to withdraw:  5000\n"
     ]
    },
    {
     "name": "stdout",
     "output_type": "stream",
     "text": [
      "Successfully withdrawn:  5000.0\n",
      "Your total amount is now:  25000.0\n",
      "\n",
      "Enter 0 to exit.\n",
      "Enter 1 to check balance.\n",
      "Enter 2 to deposit.\n",
      "Enter 3 to withdraw.\n"
     ]
    },
    {
     "name": "stdin",
     "output_type": "stream",
     "text": [
      "Enter a choice for operation:  1\n"
     ]
    },
    {
     "name": "stdout",
     "output_type": "stream",
     "text": [
      "Your total amount is:  25000.0\n",
      "\n",
      "Enter 0 to exit.\n",
      "Enter 1 to check balance.\n",
      "Enter 2 to deposit.\n",
      "Enter 3 to withdraw.\n"
     ]
    },
    {
     "name": "stdin",
     "output_type": "stream",
     "text": [
      "Enter a choice for operation:  0\n"
     ]
    },
    {
     "name": "stdout",
     "output_type": "stream",
     "text": [
      "Exiting the banking system. Thank you for choosing us 😊\n"
     ]
    }
   ],
   "source": [
    "total_Amount = 20000\n",
    "\n",
    "def banking_system():\n",
    "    def checkbalance():   # Function to check the balance\n",
    "        print(\"Your total amount is: \", total_Amount)\n",
    "\n",
    "    def deposit():      # Function to deposit money\n",
    "        global total_Amount\n",
    "        deposit_amount = float(input(\"Enter the amount you want to deposit: \"))\n",
    "        if deposit_amount > 0:\n",
    "            total_Amount += deposit_amount\n",
    "            print(\"Successfully deposited: \", deposit_amount)\n",
    "            print(\"Your total amount is now: \", total_Amount)\n",
    "        else:\n",
    "            print(\"Invalid deposit amount.\")\n",
    "\n",
    "    def withdraw():    # Function to withdraw money\n",
    "        global total_Amount\n",
    "        withdraw_amount = float(input(\"Enter the amount you want to withdraw: \"))\n",
    "        if withdraw_amount > 0:\n",
    "            if total_Amount >= withdraw_amount:\n",
    "                total_Amount -= withdraw_amount\n",
    "                print(\"Successfully withdrawn: \", withdraw_amount)\n",
    "                print(\"Your total amount is now: \", total_Amount)\n",
    "            else:\n",
    "                print(\"Insufficient funds.\")\n",
    "        else:\n",
    "            print(\"Invalid withdrawal amount.\")\n",
    "\n",
    "       \n",
    "    # Loop to display menu and take user input for operations\n",
    "    while True:\n",
    "        # Display menu options\n",
    "        print(\"\\nEnter 0 to exit.\")\n",
    "        print(\"Enter 1 to check balance.\")\n",
    "        print(\"Enter 2 to deposit.\")\n",
    "        print(\"Enter 3 to withdraw.\")\n",
    "\n",
    "        operation = input(\"Enter a choice for operation: \")\n",
    "\n",
    "        if operation == '0':    # Exit the system\n",
    "            print(\"Exiting the banking system. Thank you for choosing us 😊\")\n",
    "            break\n",
    "        elif operation == '1':  # Check balance\n",
    "            checkbalance()\n",
    "        elif operation == '2': # Deposit money\n",
    "            deposit()\n",
    "        elif operation == '3': # Withdraw money\n",
    "            withdraw()\n",
    "        else:\n",
    "            print(\"Invalid option, please try again.\")\n",
    "\n",
    "# Run the banking system\n",
    "banking_system()\n"
   ]
  },
  {
   "cell_type": "code",
   "execution_count": null,
   "id": "180b5eb0-4449-4915-ae43-ef6916d83285",
   "metadata": {},
   "outputs": [],
   "source": []
  }
 ],
 "metadata": {
  "kernelspec": {
   "display_name": "Python 3 (ipykernel)",
   "language": "python",
   "name": "python3"
  },
  "language_info": {
   "codemirror_mode": {
    "name": "ipython",
    "version": 3
   },
   "file_extension": ".py",
   "mimetype": "text/x-python",
   "name": "python",
   "nbconvert_exporter": "python",
   "pygments_lexer": "ipython3",
   "version": "3.12.4"
  }
 },
 "nbformat": 4,
 "nbformat_minor": 5
}
